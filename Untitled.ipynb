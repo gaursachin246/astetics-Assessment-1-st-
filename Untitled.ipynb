{
 "cells": [
  {
   "cell_type": "code",
   "execution_count": 1,
   "id": "42b19481-f62e-44de-b480-e8246eb086ac",
   "metadata": {},
   "outputs": [],
   "source": [
    "## Q1. What is the Probability Density Function?\n",
    "\n",
    "# The Probability Density Function (PDF) is a function used to describe the likelihood of a continuous random variable taking on a particular value. For continuous distributions, the PDF provides the relative likelihood of the random variable falling within a particular range. The total area under the PDF curve is equal to 1, representing the certainty that the variable will take on some value within the range."
   ]
  },
  {
   "cell_type": "code",
   "execution_count": 3,
   "id": "88c438b5-fc61-44e6-acf2-d4332688b84c",
   "metadata": {},
   "outputs": [],
   "source": [
    "#### Q2. What are the Types of Probability Distribution?\n",
    "# There are several types of probability distributions, including\n",
    "\n",
    "##Discrete Probability Distributions:\n",
    "\n",
    "#Binomial Distribution: Represents the number of successes in a fixed number of trials.\n",
    "#Poisson Distribution: Represents the number of events occurring in a fixed interval of time or space.\n",
    "#Geometric Distribution: Represents the number of trials needed to get the first success.\n",
    "#Negative Binomial Distribution: Represents the number of trials needed to achieve a fixed number of successes.\n",
    "\n",
    "##Continuous Probability Distributions:\n",
    "\n",
    "#Normal Distribution: Represents a symmetric distribution with a bell-shaped curve.\n",
    "#Uniform Distribution: Represents a distribution where all outcomes are equally likely within a given range.\n",
    "#Exponential Distribution: Represents the time between events in a Poisson process."
   ]
  },
  {
   "cell_type": "code",
   "execution_count": 8,
   "id": "71c1805e-8d3c-4e68-ad0e-523e7eae2687",
   "metadata": {},
   "outputs": [],
   "source": [
    "### Q3. Write a Python function to calculate the probability density function of a normal distribution with given mean and standard deviation at a given point.\n",
    "# Here is a Python function to calculate the probability density function (PDF) of a normal distribution with given mean and standard deviation at a given point:\n",
    "# f(x | μ, σ) = (1/σ√(2π)) * exp(-((x-μ)^2)/(2σ^2))\n",
    "\n",
    "# Where:\n",
    "\n",
    "#- f(x | μ, σ) is the probability density function value at point x\n",
    "#- μ is the mean of the normal distribution\n",
    "#- σ is the standard deviation of the normal distribution\n",
    "#- x is the point at which to calculate the PDF"
   ]
  },
  {
   "cell_type": "code",
   "execution_count": 4,
   "id": "89473e10-85e3-410f-9d89-2684ce6793ba",
   "metadata": {},
   "outputs": [],
   "source": [
    "### Q4. Properties of Binomial Distribution and Examples\n",
    "#Properties:\n",
    "\n",
    "#Fixed Number of Trials: There are (n)\n",
    "\n",
    "#Two Possible Outcomes: Each trial results in either success or failure.\n",
    "#Constant Probability: The probability of success \n",
    "#𝑝\n",
    "#p remains the same across trials.\n",
    "#Independent Trials: Each trial is independent of others.\n",
    "\n",
    "## Examples\n",
    "\n",
    "# Coin Tosses: Flipping a fair coin 10 times and counting the number of heads.\n",
    "#Quality Control: Testing 20 products for defects, where each product either passes or fails"
   ]
  },
  {
   "cell_type": "code",
   "execution_count": null,
   "id": "9666cdfd-6433-4d8e-9c8c-a323e4562cc9",
   "metadata": {},
   "outputs": [],
   "source": []
  },
  {
   "cell_type": "code",
   "execution_count": null,
   "id": "66e98828-7f4c-45e9-9bc1-d3ab8983b227",
   "metadata": {},
   "outputs": [],
   "source": []
  },
  {
   "cell_type": "code",
   "execution_count": 5,
   "id": "60b47d49-bead-44d5-8374-f594b2ff6ddc",
   "metadata": {},
   "outputs": [],
   "source": [
    "#### Q7. Differences Between Binomial and Poisson Distributions\n",
    "#Binomial Distribution:\n",
    "\n",
    "#Describes the number of successes in a fixed number of trials.\n",
    "# Requires two parameters: number of trials (n)\n",
    "\n",
    "#n and probability of success p\n",
    "# The variance is n p (1-p)\n",
    "\n",
    "#Poisson Distribution:\n",
    "\n",
    "#Describes the number of events occurring in a fixed interval of time or space.\n",
    "#Requires one parameter: the average rate of occurrence λ.\n",
    "\n",
    "# The variance is also λ. \n",
    "\n",
    "## λ, which is equal to the mean."
   ]
  },
  {
   "cell_type": "code",
   "execution_count": 6,
   "id": "615fc8ea-ed4b-453c-bc0a-aafc39457379",
   "metadata": {},
   "outputs": [],
   "source": [
    "##### Q9. Relationship Between Mean and Variance\n",
    "#Binomial Distribution:\n",
    "\n",
    "# Mean:𝜇 = np\n",
    "\n",
    "\n",
    "# Variance: 𝜎2 = np(1p)𝜎2 = np(1-p)\n",
    "\n",
    "#Poisson Distribution:\n"
   ]
  },
  {
   "cell_type": "code",
   "execution_count": 7,
   "id": "6970adbb-8ab3-4471-bb80-4d608fb80b8a",
   "metadata": {},
   "outputs": [],
   "source": [
    "# Q10. Least Frequent Data in Normal Distribution\n",
    "# In a normal distribution, the least frequent data appears at the extremes, far from the mean. Specifically, data points that are many standard deviations away from the mean (in both directions) occur with lower frequency. The frequency decreases as you move away from the mean, approaching zero in the tails of the distribution"
   ]
  },
  {
   "cell_type": "code",
   "execution_count": null,
   "id": "5b1fbfc8-24f3-48ef-9cf8-58ccbae0b568",
   "metadata": {},
   "outputs": [],
   "source": []
  }
 ],
 "metadata": {
  "kernelspec": {
   "display_name": "Python 3 (ipykernel)",
   "language": "python",
   "name": "python3"
  },
  "language_info": {
   "codemirror_mode": {
    "name": "ipython",
    "version": 3
   },
   "file_extension": ".py",
   "mimetype": "text/x-python",
   "name": "python",
   "nbconvert_exporter": "python",
   "pygments_lexer": "ipython3",
   "version": "3.10.8"
  }
 },
 "nbformat": 4,
 "nbformat_minor": 5
}
